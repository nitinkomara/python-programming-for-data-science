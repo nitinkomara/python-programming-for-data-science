{
 "cells": [
  {
   "cell_type": "markdown",
   "metadata": {},
   "source": [
    "### Import the appropriate modules "
   ]
  },
  {
   "cell_type": "code",
   "execution_count": 2,
   "metadata": {
    "collapsed": true
   },
   "outputs": [],
   "source": [
    "import numpy as np\n",
    "import pandas as pd\n",
    "import matplotlib.pyplot as plt\n",
    "%matplotlib inline\n",
    "import seaborn as sns\n",
    "%matplotlib inline"
   ]
  },
  {
   "cell_type": "markdown",
   "metadata": {},
   "source": [
    "### Load in the Data as a Pandas Data Frame"
   ]
  },
  {
   "cell_type": "code",
   "execution_count": 3,
   "metadata": {
    "collapsed": true
   },
   "outputs": [],
   "source": [
    "BT = pd.read_csv('Batting.csv')"
   ]
  },
  {
   "cell_type": "markdown",
   "metadata": {},
   "source": [
    "### What are the dimensions of the data?"
   ]
  },
  {
   "cell_type": "code",
   "execution_count": 4,
   "metadata": {},
   "outputs": [
    {
     "name": "stdout",
     "output_type": "stream",
     "text": [
      "<class 'pandas.core.frame.DataFrame'>\n",
      "RangeIndex: 102816 entries, 0 to 102815\n",
      "Data columns (total 25 columns):\n",
      "playerID     102816 non-null object\n",
      "nameLast     102816 non-null object\n",
      "nameFirst    102816 non-null object\n",
      "birthYear    102816 non-null int64\n",
      "yearID       102816 non-null int64\n",
      "stint        102816 non-null int64\n",
      "teamID       102816 non-null object\n",
      "lgID         102079 non-null object\n",
      "G            102816 non-null int64\n",
      "AB           102816 non-null int64\n",
      "R            102816 non-null int64\n",
      "H            102816 non-null int64\n",
      "2B           102816 non-null int64\n",
      "3B           102816 non-null int64\n",
      "HR           102816 non-null int64\n",
      "RBI          102392 non-null float64\n",
      "SB           101516 non-null float64\n",
      "CS           79360 non-null float64\n",
      "BB           102816 non-null int64\n",
      "SO           94978 non-null float64\n",
      "IBB          66251 non-null float64\n",
      "HBP          100006 non-null float64\n",
      "SH           96478 non-null float64\n",
      "SF           66782 non-null float64\n",
      "GIDP         76706 non-null float64\n",
      "dtypes: float64(9), int64(11), object(5)\n",
      "memory usage: 19.6+ MB\n"
     ]
    }
   ],
   "source": [
    "BT.info()"
   ]
  },
  {
   "cell_type": "code",
   "execution_count": 5,
   "metadata": {},
   "outputs": [
    {
     "data": {
      "text/html": [
       "<div>\n",
       "<style>\n",
       "    .dataframe thead tr:only-child th {\n",
       "        text-align: right;\n",
       "    }\n",
       "\n",
       "    .dataframe thead th {\n",
       "        text-align: left;\n",
       "    }\n",
       "\n",
       "    .dataframe tbody tr th {\n",
       "        vertical-align: top;\n",
       "    }\n",
       "</style>\n",
       "<table border=\"1\" class=\"dataframe\">\n",
       "  <thead>\n",
       "    <tr style=\"text-align: right;\">\n",
       "      <th></th>\n",
       "      <th>playerID</th>\n",
       "      <th>nameLast</th>\n",
       "      <th>nameFirst</th>\n",
       "      <th>birthYear</th>\n",
       "      <th>yearID</th>\n",
       "      <th>stint</th>\n",
       "      <th>teamID</th>\n",
       "      <th>lgID</th>\n",
       "      <th>G</th>\n",
       "      <th>AB</th>\n",
       "      <th>...</th>\n",
       "      <th>RBI</th>\n",
       "      <th>SB</th>\n",
       "      <th>CS</th>\n",
       "      <th>BB</th>\n",
       "      <th>SO</th>\n",
       "      <th>IBB</th>\n",
       "      <th>HBP</th>\n",
       "      <th>SH</th>\n",
       "      <th>SF</th>\n",
       "      <th>GIDP</th>\n",
       "    </tr>\n",
       "  </thead>\n",
       "  <tbody>\n",
       "    <tr>\n",
       "      <th>0</th>\n",
       "      <td>abercda01</td>\n",
       "      <td>Frank</td>\n",
       "      <td>Abercrombie</td>\n",
       "      <td>1850</td>\n",
       "      <td>1871</td>\n",
       "      <td>1</td>\n",
       "      <td>TRO</td>\n",
       "      <td>NaN</td>\n",
       "      <td>1</td>\n",
       "      <td>4</td>\n",
       "      <td>...</td>\n",
       "      <td>0.0</td>\n",
       "      <td>0.0</td>\n",
       "      <td>0.0</td>\n",
       "      <td>0</td>\n",
       "      <td>0.0</td>\n",
       "      <td>NaN</td>\n",
       "      <td>NaN</td>\n",
       "      <td>NaN</td>\n",
       "      <td>NaN</td>\n",
       "      <td>NaN</td>\n",
       "    </tr>\n",
       "    <tr>\n",
       "      <th>1</th>\n",
       "      <td>addybo01</td>\n",
       "      <td>Bob</td>\n",
       "      <td>Addy</td>\n",
       "      <td>1842</td>\n",
       "      <td>1871</td>\n",
       "      <td>1</td>\n",
       "      <td>RC1</td>\n",
       "      <td>NaN</td>\n",
       "      <td>25</td>\n",
       "      <td>118</td>\n",
       "      <td>...</td>\n",
       "      <td>13.0</td>\n",
       "      <td>8.0</td>\n",
       "      <td>1.0</td>\n",
       "      <td>4</td>\n",
       "      <td>0.0</td>\n",
       "      <td>NaN</td>\n",
       "      <td>NaN</td>\n",
       "      <td>NaN</td>\n",
       "      <td>NaN</td>\n",
       "      <td>NaN</td>\n",
       "    </tr>\n",
       "    <tr>\n",
       "      <th>2</th>\n",
       "      <td>allisar01</td>\n",
       "      <td>Art</td>\n",
       "      <td>Allison</td>\n",
       "      <td>1849</td>\n",
       "      <td>1871</td>\n",
       "      <td>1</td>\n",
       "      <td>CL1</td>\n",
       "      <td>NaN</td>\n",
       "      <td>29</td>\n",
       "      <td>137</td>\n",
       "      <td>...</td>\n",
       "      <td>19.0</td>\n",
       "      <td>3.0</td>\n",
       "      <td>1.0</td>\n",
       "      <td>2</td>\n",
       "      <td>5.0</td>\n",
       "      <td>NaN</td>\n",
       "      <td>NaN</td>\n",
       "      <td>NaN</td>\n",
       "      <td>NaN</td>\n",
       "      <td>NaN</td>\n",
       "    </tr>\n",
       "    <tr>\n",
       "      <th>3</th>\n",
       "      <td>allisdo01</td>\n",
       "      <td>Doug</td>\n",
       "      <td>Allison</td>\n",
       "      <td>1846</td>\n",
       "      <td>1871</td>\n",
       "      <td>1</td>\n",
       "      <td>WS3</td>\n",
       "      <td>NaN</td>\n",
       "      <td>27</td>\n",
       "      <td>133</td>\n",
       "      <td>...</td>\n",
       "      <td>27.0</td>\n",
       "      <td>1.0</td>\n",
       "      <td>1.0</td>\n",
       "      <td>0</td>\n",
       "      <td>2.0</td>\n",
       "      <td>NaN</td>\n",
       "      <td>NaN</td>\n",
       "      <td>NaN</td>\n",
       "      <td>NaN</td>\n",
       "      <td>NaN</td>\n",
       "    </tr>\n",
       "    <tr>\n",
       "      <th>4</th>\n",
       "      <td>ansonca01</td>\n",
       "      <td>Cap</td>\n",
       "      <td>Anson</td>\n",
       "      <td>1852</td>\n",
       "      <td>1871</td>\n",
       "      <td>1</td>\n",
       "      <td>RC1</td>\n",
       "      <td>NaN</td>\n",
       "      <td>25</td>\n",
       "      <td>120</td>\n",
       "      <td>...</td>\n",
       "      <td>16.0</td>\n",
       "      <td>6.0</td>\n",
       "      <td>2.0</td>\n",
       "      <td>2</td>\n",
       "      <td>1.0</td>\n",
       "      <td>NaN</td>\n",
       "      <td>NaN</td>\n",
       "      <td>NaN</td>\n",
       "      <td>NaN</td>\n",
       "      <td>NaN</td>\n",
       "    </tr>\n",
       "  </tbody>\n",
       "</table>\n",
       "<p>5 rows × 25 columns</p>\n",
       "</div>"
      ],
      "text/plain": [
       "    playerID nameLast    nameFirst  birthYear  yearID  stint teamID lgID   G  \\\n",
       "0  abercda01    Frank  Abercrombie       1850    1871      1    TRO  NaN   1   \n",
       "1   addybo01      Bob         Addy       1842    1871      1    RC1  NaN  25   \n",
       "2  allisar01      Art      Allison       1849    1871      1    CL1  NaN  29   \n",
       "3  allisdo01     Doug      Allison       1846    1871      1    WS3  NaN  27   \n",
       "4  ansonca01      Cap        Anson       1852    1871      1    RC1  NaN  25   \n",
       "\n",
       "    AB  ...    RBI   SB   CS  BB   SO  IBB  HBP  SH  SF  GIDP  \n",
       "0    4  ...    0.0  0.0  0.0   0  0.0  NaN  NaN NaN NaN   NaN  \n",
       "1  118  ...   13.0  8.0  1.0   4  0.0  NaN  NaN NaN NaN   NaN  \n",
       "2  137  ...   19.0  3.0  1.0   2  5.0  NaN  NaN NaN NaN   NaN  \n",
       "3  133  ...   27.0  1.0  1.0   0  2.0  NaN  NaN NaN NaN   NaN  \n",
       "4  120  ...   16.0  6.0  2.0   2  1.0  NaN  NaN NaN NaN   NaN  \n",
       "\n",
       "[5 rows x 25 columns]"
      ]
     },
     "execution_count": 5,
     "metadata": {},
     "output_type": "execute_result"
    }
   ],
   "source": [
    "BT.head(5)"
   ]
  },
  {
   "cell_type": "markdown",
   "metadata": {},
   "source": [
    "### Add a column to the data frame that combines nameLast and nameFirst, entitle this playerName.  \n",
    "### You will be using this column extensively"
   ]
  },
  {
   "cell_type": "code",
   "execution_count": 4,
   "metadata": {
    "collapsed": true
   },
   "outputs": [],
   "source": [
    "BT['playerName'] = BT['nameFirst'] + ' ' + BT['nameLast']"
   ]
  },
  {
   "cell_type": "code",
   "execution_count": 10,
   "metadata": {},
   "outputs": [
    {
     "data": {
      "text/plain": [
       "0    Abercrombie Frank\n",
       "1             Addy Bob\n",
       "2          Allison Art\n",
       "3         Allison Doug\n",
       "4            Anson Cap\n",
       "Name: playerName, dtype: object"
      ]
     },
     "execution_count": 10,
     "metadata": {},
     "output_type": "execute_result"
    }
   ],
   "source": [
    "BT['playerName'].head()"
   ]
  },
  {
   "cell_type": "markdown",
   "metadata": {},
   "source": [
    "### How many players appeared in 1880?  Required: Count of players"
   ]
  },
  {
   "cell_type": "code",
   "execution_count": 12,
   "metadata": {},
   "outputs": [
    {
     "data": {
      "text/plain": [
       "135"
      ]
     },
     "execution_count": 12,
     "metadata": {},
     "output_type": "execute_result"
    }
   ],
   "source": [
    "BT[BT['yearID'] == 1880]['playerID'].count()"
   ]
  },
  {
   "cell_type": "markdown",
   "metadata": {},
   "source": [
    "### Which five years had the most players appear? Required: Year and count of players"
   ]
  },
  {
   "cell_type": "code",
   "execution_count": 14,
   "metadata": {},
   "outputs": [
    {
     "data": {
      "text/plain": [
       "2015    1486\n",
       "2016    1483\n",
       "2014    1435\n",
       "2013    1409\n",
       "2012    1408\n",
       "Name: yearID, dtype: int64"
      ]
     },
     "execution_count": 14,
     "metadata": {},
     "output_type": "execute_result"
    }
   ],
   "source": [
    "BT['yearID'].value_counts().head(5)"
   ]
  },
  {
   "cell_type": "markdown",
   "metadata": {},
   "source": [
    "### How many players had over 500 or more ABs?  Required: Count of players"
   ]
  },
  {
   "cell_type": "code",
   "execution_count": 19,
   "metadata": {},
   "outputs": [
    {
     "data": {
      "text/plain": [
       "5145"
      ]
     },
     "execution_count": 19,
     "metadata": {},
     "output_type": "execute_result"
    }
   ],
   "source": [
    "(BT.groupby('playerID')['AB'].sum() > 500).sum()"
   ]
  },
  {
   "cell_type": "code",
   "execution_count": null,
   "metadata": {
    "collapsed": true
   },
   "outputs": [],
   "source": []
  },
  {
   "cell_type": "markdown",
   "metadata": {},
   "source": [
    "### Which player had the most HRs in 1909?  Required: Player and HR total"
   ]
  },
  {
   "cell_type": "code",
   "execution_count": 28,
   "metadata": {},
   "outputs": [
    {
     "data": {
      "text/html": [
       "<div>\n",
       "<style>\n",
       "    .dataframe thead tr:only-child th {\n",
       "        text-align: right;\n",
       "    }\n",
       "\n",
       "    .dataframe thead th {\n",
       "        text-align: left;\n",
       "    }\n",
       "\n",
       "    .dataframe tbody tr th {\n",
       "        vertical-align: top;\n",
       "    }\n",
       "</style>\n",
       "<table border=\"1\" class=\"dataframe\">\n",
       "  <thead>\n",
       "    <tr style=\"text-align: right;\">\n",
       "      <th></th>\n",
       "      <th>playerName</th>\n",
       "      <th>HR</th>\n",
       "    </tr>\n",
       "  </thead>\n",
       "  <tbody>\n",
       "    <tr>\n",
       "      <th>84</th>\n",
       "      <td>Cobb Ty</td>\n",
       "      <td>9</td>\n",
       "    </tr>\n",
       "  </tbody>\n",
       "</table>\n",
       "</div>"
      ],
      "text/plain": [
       "   playerName  HR\n",
       "84    Cobb Ty   9"
      ]
     },
     "execution_count": 28,
     "metadata": {},
     "output_type": "execute_result"
    }
   ],
   "source": [
    "BT[BT['yearID'] == 1909].groupby('playerName')['HR'].sum().reset_index().sort_values('HR', ascending=False).head(1)"
   ]
  },
  {
   "cell_type": "markdown",
   "metadata": {},
   "source": [
    "### How many players have had more than 200 hits, 20 2Bs, 5 3Bs, and 20 HRs in a season? \n",
    "### Required: Player, H, 2B, 3B, HR"
   ]
  },
  {
   "cell_type": "code",
   "execution_count": 26,
   "metadata": {
    "collapsed": true
   },
   "outputs": [],
   "source": [
    "BT200H = BT.groupby(['yearID','playerName']).sum().reset_index()[['playerName','H','2B','3B','HR']]"
   ]
  },
  {
   "cell_type": "code",
   "execution_count": 35,
   "metadata": {},
   "outputs": [
    {
     "data": {
      "text/plain": [
       "56"
      ]
     },
     "execution_count": 35,
     "metadata": {},
     "output_type": "execute_result"
    }
   ],
   "source": [
    "BT200H[(BT200H['H'] > 200) & (BT200H['2B'] > 20) & (BT200H['3B'] > 5) & (BT200H['HR'] > 20)]['playerName'].nunique()"
   ]
  },
  {
   "cell_type": "code",
   "execution_count": 37,
   "metadata": {},
   "outputs": [],
   "source": [
    "BT200H[(BT200H['H'] > 200) & (BT200H['2B'] > 20) & (BT200H['3B'] > 5) & (BT200H['HR'] > 20)]['playerName'].value_counts()"
   ]
  },
  {
   "cell_type": "markdown",
   "metadata": {},
   "source": [
    "### Who had the highest batting average in 2009?  Required: Player, Average, and HRs for that player.  \n",
    "### Hint:  Batting Average is H/AB"
   ]
  },
  {
   "cell_type": "code",
   "execution_count": 5,
   "metadata": {
    "collapsed": true
   },
   "outputs": [],
   "source": [
    "BTavg = BT.groupby(['yearID','playerName']).sum().reset_index()"
   ]
  },
  {
   "cell_type": "code",
   "execution_count": 6,
   "metadata": {
    "collapsed": true
   },
   "outputs": [],
   "source": [
    "BTavg['Bavg'] = BTavg['H'] / BTavg['AB']"
   ]
  },
  {
   "cell_type": "code",
   "execution_count": 7,
   "metadata": {},
   "outputs": [
    {
     "data": {
      "text/html": [
       "<div>\n",
       "<style>\n",
       "    .dataframe thead tr:only-child th {\n",
       "        text-align: right;\n",
       "    }\n",
       "\n",
       "    .dataframe thead th {\n",
       "        text-align: left;\n",
       "    }\n",
       "\n",
       "    .dataframe tbody tr th {\n",
       "        vertical-align: top;\n",
       "    }\n",
       "</style>\n",
       "<table border=\"1\" class=\"dataframe\">\n",
       "  <thead>\n",
       "    <tr style=\"text-align: right;\">\n",
       "      <th></th>\n",
       "      <th>playerName</th>\n",
       "      <th>Bavg</th>\n",
       "      <th>HR</th>\n",
       "    </tr>\n",
       "  </thead>\n",
       "  <tbody>\n",
       "    <tr>\n",
       "      <th>84908</th>\n",
       "      <td>Davidson Dave</td>\n",
       "      <td>1.0</td>\n",
       "      <td>0</td>\n",
       "    </tr>\n",
       "  </tbody>\n",
       "</table>\n",
       "</div>"
      ],
      "text/plain": [
       "          playerName  Bavg  HR\n",
       "84908  Davidson Dave   1.0   0"
      ]
     },
     "execution_count": 7,
     "metadata": {},
     "output_type": "execute_result"
    }
   ],
   "source": [
    "BTavg[BTavg['yearID'] == 2009].sort_values('Bavg',ascending=False).head(10)[['playerName','Bavg','HR']].head(1)"
   ]
  },
  {
   "cell_type": "markdown",
   "metadata": {},
   "source": [
    "### What was the average amount of HRs for all players in 1975 who had 200 or more ABs?"
   ]
  },
  {
   "cell_type": "code",
   "execution_count": 18,
   "metadata": {},
   "outputs": [
    {
     "data": {
      "text/plain": [
       "9.472440944881889"
      ]
     },
     "execution_count": 18,
     "metadata": {},
     "output_type": "execute_result"
    }
   ],
   "source": [
    "BT[(BT['yearID'] == 1975) & (BT['AB'] >= 200)]['HR'].mean()"
   ]
  },
  {
   "cell_type": "markdown",
   "metadata": {},
   "source": [
    "### Same question as above but for players in 1987 with 400 or more ABs?"
   ]
  },
  {
   "cell_type": "code",
   "execution_count": 19,
   "metadata": {},
   "outputs": [
    {
     "data": {
      "text/plain": [
       "19.006410256410255"
      ]
     },
     "execution_count": 19,
     "metadata": {},
     "output_type": "execute_result"
    }
   ],
   "source": [
    "BT[(BT['yearID'] == 1987) & (BT['AB'] >= 400)]['HR'].mean()"
   ]
  },
  {
   "cell_type": "markdown",
   "metadata": {},
   "source": [
    "### In 1984, who had the top 5 highest batting averages?"
   ]
  },
  {
   "cell_type": "code",
   "execution_count": 23,
   "metadata": {},
   "outputs": [
    {
     "data": {
      "text/html": [
       "<div>\n",
       "<style>\n",
       "    .dataframe thead tr:only-child th {\n",
       "        text-align: right;\n",
       "    }\n",
       "\n",
       "    .dataframe thead th {\n",
       "        text-align: left;\n",
       "    }\n",
       "\n",
       "    .dataframe tbody tr th {\n",
       "        vertical-align: top;\n",
       "    }\n",
       "</style>\n",
       "<table border=\"1\" class=\"dataframe\">\n",
       "  <thead>\n",
       "    <tr style=\"text-align: right;\">\n",
       "      <th></th>\n",
       "      <th>playerName</th>\n",
       "      <th>Bavg</th>\n",
       "    </tr>\n",
       "  </thead>\n",
       "  <tbody>\n",
       "    <tr>\n",
       "      <th>57685</th>\n",
       "      <td>Von Ohlen Dave</td>\n",
       "      <td>1.000000</td>\n",
       "    </tr>\n",
       "    <tr>\n",
       "      <th>57081</th>\n",
       "      <td>Forster Terry</td>\n",
       "      <td>0.666667</td>\n",
       "    </tr>\n",
       "    <tr>\n",
       "      <th>57600</th>\n",
       "      <td>Smith Zane</td>\n",
       "      <td>0.555556</td>\n",
       "    </tr>\n",
       "    <tr>\n",
       "      <th>57268</th>\n",
       "      <td>Laga Mike</td>\n",
       "      <td>0.545455</td>\n",
       "    </tr>\n",
       "    <tr>\n",
       "      <th>57019</th>\n",
       "      <td>Dayley Ken</td>\n",
       "      <td>0.500000</td>\n",
       "    </tr>\n",
       "  </tbody>\n",
       "</table>\n",
       "</div>"
      ],
      "text/plain": [
       "           playerName      Bavg\n",
       "57685  Von Ohlen Dave  1.000000\n",
       "57081   Forster Terry  0.666667\n",
       "57600      Smith Zane  0.555556\n",
       "57268       Laga Mike  0.545455\n",
       "57019      Dayley Ken  0.500000"
      ]
     },
     "execution_count": 23,
     "metadata": {},
     "output_type": "execute_result"
    }
   ],
   "source": [
    "BTavg[(BTavg['yearID'] == 1984)].sort_values('Bavg',ascending=False)[['playerName','Bavg']].head(5)"
   ]
  },
  {
   "cell_type": "markdown",
   "metadata": {},
   "source": [
    "### In 1963, who had the 5 lowest batting averages for players with 400 or more ABs?"
   ]
  },
  {
   "cell_type": "code",
   "execution_count": 24,
   "metadata": {},
   "outputs": [
    {
     "data": {
      "text/html": [
       "<div>\n",
       "<style>\n",
       "    .dataframe thead tr:only-child th {\n",
       "        text-align: right;\n",
       "    }\n",
       "\n",
       "    .dataframe thead th {\n",
       "        text-align: left;\n",
       "    }\n",
       "\n",
       "    .dataframe tbody tr th {\n",
       "        vertical-align: top;\n",
       "    }\n",
       "</style>\n",
       "<table border=\"1\" class=\"dataframe\">\n",
       "  <thead>\n",
       "    <tr style=\"text-align: right;\">\n",
       "      <th></th>\n",
       "      <th>playerName</th>\n",
       "      <th>Bavg</th>\n",
       "    </tr>\n",
       "  </thead>\n",
       "  <tbody>\n",
       "    <tr>\n",
       "      <th>39903</th>\n",
       "      <td>Lillis Bob</td>\n",
       "      <td>0.198294</td>\n",
       "    </tr>\n",
       "    <tr>\n",
       "      <th>39778</th>\n",
       "      <td>Goss Howie</td>\n",
       "      <td>0.209246</td>\n",
       "    </tr>\n",
       "    <tr>\n",
       "      <th>39577</th>\n",
       "      <td>Bateman John</td>\n",
       "      <td>0.210396</td>\n",
       "    </tr>\n",
       "    <tr>\n",
       "      <th>39563</th>\n",
       "      <td>Aspromonte Bob</td>\n",
       "      <td>0.213675</td>\n",
       "    </tr>\n",
       "    <tr>\n",
       "      <th>40212</th>\n",
       "      <td>Wine Bobby</td>\n",
       "      <td>0.215311</td>\n",
       "    </tr>\n",
       "  </tbody>\n",
       "</table>\n",
       "</div>"
      ],
      "text/plain": [
       "           playerName      Bavg\n",
       "39903      Lillis Bob  0.198294\n",
       "39778      Goss Howie  0.209246\n",
       "39577    Bateman John  0.210396\n",
       "39563  Aspromonte Bob  0.213675\n",
       "40212      Wine Bobby  0.215311"
      ]
     },
     "execution_count": 24,
     "metadata": {},
     "output_type": "execute_result"
    }
   ],
   "source": [
    "BTavg[(BTavg['yearID'] == 1963)& (BTavg['AB'] >= 400)].sort_values('Bavg',ascending=True)[['playerName','Bavg']].head(5)"
   ]
  },
  {
   "cell_type": "markdown",
   "metadata": {},
   "source": [
    "### Which years had the most 2Bs?  Top 5"
   ]
  },
  {
   "cell_type": "code",
   "execution_count": 28,
   "metadata": {},
   "outputs": [
    {
     "data": {
      "text/html": [
       "<div>\n",
       "<style>\n",
       "    .dataframe thead tr:only-child th {\n",
       "        text-align: right;\n",
       "    }\n",
       "\n",
       "    .dataframe thead th {\n",
       "        text-align: left;\n",
       "    }\n",
       "\n",
       "    .dataframe tbody tr th {\n",
       "        vertical-align: top;\n",
       "    }\n",
       "</style>\n",
       "<table border=\"1\" class=\"dataframe\">\n",
       "  <thead>\n",
       "    <tr style=\"text-align: right;\">\n",
       "      <th></th>\n",
       "      <th>yearID</th>\n",
       "      <th>2B</th>\n",
       "    </tr>\n",
       "  </thead>\n",
       "  <tbody>\n",
       "    <tr>\n",
       "      <th>136</th>\n",
       "      <td>2007</td>\n",
       "      <td>9197</td>\n",
       "    </tr>\n",
       "    <tr>\n",
       "      <th>135</th>\n",
       "      <td>2006</td>\n",
       "      <td>9135</td>\n",
       "    </tr>\n",
       "    <tr>\n",
       "      <th>137</th>\n",
       "      <td>2008</td>\n",
       "      <td>9014</td>\n",
       "    </tr>\n",
       "    <tr>\n",
       "      <th>133</th>\n",
       "      <td>2004</td>\n",
       "      <td>8919</td>\n",
       "    </tr>\n",
       "    <tr>\n",
       "      <th>129</th>\n",
       "      <td>2000</td>\n",
       "      <td>8901</td>\n",
       "    </tr>\n",
       "  </tbody>\n",
       "</table>\n",
       "</div>"
      ],
      "text/plain": [
       "     yearID    2B\n",
       "136    2007  9197\n",
       "135    2006  9135\n",
       "137    2008  9014\n",
       "133    2004  8919\n",
       "129    2000  8901"
      ]
     },
     "execution_count": 28,
     "metadata": {},
     "output_type": "execute_result"
    }
   ],
   "source": [
    "BT.groupby('yearID').sum().reset_index().sort_values('2B',ascending=False)[['yearID','2B']].head(5)"
   ]
  },
  {
   "cell_type": "markdown",
   "metadata": {},
   "source": [
    "### Who has the most 3Bs for their career?"
   ]
  },
  {
   "cell_type": "code",
   "execution_count": 30,
   "metadata": {},
   "outputs": [
    {
     "data": {
      "text/html": [
       "<div>\n",
       "<style>\n",
       "    .dataframe thead tr:only-child th {\n",
       "        text-align: right;\n",
       "    }\n",
       "\n",
       "    .dataframe thead th {\n",
       "        text-align: left;\n",
       "    }\n",
       "\n",
       "    .dataframe tbody tr th {\n",
       "        vertical-align: top;\n",
       "    }\n",
       "</style>\n",
       "<table border=\"1\" class=\"dataframe\">\n",
       "  <thead>\n",
       "    <tr style=\"text-align: right;\">\n",
       "      <th></th>\n",
       "      <th>playerName</th>\n",
       "      <th>3B</th>\n",
       "    </tr>\n",
       "  </thead>\n",
       "  <tbody>\n",
       "    <tr>\n",
       "      <th>3528</th>\n",
       "      <td>Crawford Sam</td>\n",
       "      <td>309</td>\n",
       "    </tr>\n",
       "  </tbody>\n",
       "</table>\n",
       "</div>"
      ],
      "text/plain": [
       "        playerName   3B\n",
       "3528  Crawford Sam  309"
      ]
     },
     "execution_count": 30,
     "metadata": {},
     "output_type": "execute_result"
    }
   ],
   "source": [
    "BT.groupby('playerName').sum().reset_index().sort_values('3B',ascending=False)[['playerName','3B']].head(1)"
   ]
  },
  {
   "cell_type": "markdown",
   "metadata": {},
   "source": [
    "### Who had the most HRs in their 20s (Aged 29 or less)?"
   ]
  },
  {
   "cell_type": "code",
   "execution_count": 32,
   "metadata": {},
   "outputs": [
    {
     "data": {
      "text/plain": [
       "0      21\n",
       "1      29\n",
       "2      22\n",
       "3      25\n",
       "4      19\n",
       "5      21\n",
       "6      32\n",
       "7      21\n",
       "8    1871\n",
       "9      27\n",
       "dtype: int64"
      ]
     },
     "execution_count": 32,
     "metadata": {},
     "output_type": "execute_result"
    }
   ],
   "source": [
    "(BT['yearID'] - BT['birthYear']).head(10)"
   ]
  },
  {
   "cell_type": "code",
   "execution_count": 33,
   "metadata": {},
   "outputs": [
    {
     "data": {
      "text/html": [
       "<div>\n",
       "<style>\n",
       "    .dataframe thead tr:only-child th {\n",
       "        text-align: right;\n",
       "    }\n",
       "\n",
       "    .dataframe thead th {\n",
       "        text-align: left;\n",
       "    }\n",
       "\n",
       "    .dataframe tbody tr th {\n",
       "        vertical-align: top;\n",
       "    }\n",
       "</style>\n",
       "<table border=\"1\" class=\"dataframe\">\n",
       "  <thead>\n",
       "    <tr style=\"text-align: right;\">\n",
       "      <th></th>\n",
       "      <th>playerName</th>\n",
       "      <th>HR</th>\n",
       "    </tr>\n",
       "  </thead>\n",
       "  <tbody>\n",
       "    <tr>\n",
       "      <th>15647</th>\n",
       "      <td>Thomas Frank</td>\n",
       "      <td>420</td>\n",
       "    </tr>\n",
       "    <tr>\n",
       "      <th>6134</th>\n",
       "      <td>Griffey Ken</td>\n",
       "      <td>395</td>\n",
       "    </tr>\n",
       "    <tr>\n",
       "      <th>13432</th>\n",
       "      <td>Rodriguez Alex</td>\n",
       "      <td>381</td>\n",
       "    </tr>\n",
       "    <tr>\n",
       "      <th>12735</th>\n",
       "      <td>Pujols Albert</td>\n",
       "      <td>366</td>\n",
       "    </tr>\n",
       "    <tr>\n",
       "      <th>5185</th>\n",
       "      <td>Foxx Jimmie</td>\n",
       "      <td>343</td>\n",
       "    </tr>\n",
       "  </tbody>\n",
       "</table>\n",
       "</div>"
      ],
      "text/plain": [
       "           playerName   HR\n",
       "15647    Thomas Frank  420\n",
       "6134      Griffey Ken  395\n",
       "13432  Rodriguez Alex  381\n",
       "12735   Pujols Albert  366\n",
       "5185      Foxx Jimmie  343"
      ]
     },
     "execution_count": 33,
     "metadata": {},
     "output_type": "execute_result"
    }
   ],
   "source": [
    "BT[((BT['yearID'] - BT['birthYear']) < 30) & (BT['birthYear'] > 0)].groupby('playerName').sum().reset_index().sort_values('HR',ascending=False)[['playerName','HR']].head(5)"
   ]
  },
  {
   "cell_type": "markdown",
   "metadata": {},
   "source": [
    "### Who had the most 2Bs, 3Bs, and HRs combined in one season?"
   ]
  },
  {
   "cell_type": "code",
   "execution_count": 39,
   "metadata": {},
   "outputs": [
    {
     "data": {
      "text/plain": [
       "17521    Ruth Babe\n",
       "Name: playerName, dtype: object"
      ]
     },
     "execution_count": 39,
     "metadata": {},
     "output_type": "execute_result"
    }
   ],
   "source": [
    "BT['2B+3B+HR'] = BT['2B'] + BT['3B'] + BT['HR']\n",
    "BT.groupby(['yearID','playerName']).sum().reset_index().sort_values('2B+3B+HR', ascending = False)['playerName'].head(1)"
   ]
  },
  {
   "cell_type": "markdown",
   "metadata": {},
   "source": [
    "### Which team has had the most players with 100 or more RBIs in a season?"
   ]
  },
  {
   "cell_type": "code",
   "execution_count": 45,
   "metadata": {},
   "outputs": [
    {
     "data": {
      "text/html": [
       "<div>\n",
       "<style>\n",
       "    .dataframe thead tr:only-child th {\n",
       "        text-align: right;\n",
       "    }\n",
       "\n",
       "    .dataframe thead th {\n",
       "        text-align: left;\n",
       "    }\n",
       "\n",
       "    .dataframe tbody tr th {\n",
       "        vertical-align: top;\n",
       "    }\n",
       "</style>\n",
       "<table border=\"1\" class=\"dataframe\">\n",
       "  <thead>\n",
       "    <tr style=\"text-align: right;\">\n",
       "      <th></th>\n",
       "      <th>teamID</th>\n",
       "      <th>yearID</th>\n",
       "      <th>playerName</th>\n",
       "      <th>RBI</th>\n",
       "    </tr>\n",
       "  </thead>\n",
       "  <tbody>\n",
       "    <tr>\n",
       "      <th>285</th>\n",
       "      <td>NYA</td>\n",
       "      <td>1936</td>\n",
       "      <td>5</td>\n",
       "      <td>5</td>\n",
       "    </tr>\n",
       "  </tbody>\n",
       "</table>\n",
       "</div>"
      ],
      "text/plain": [
       "    teamID  yearID  playerName  RBI\n",
       "285    NYA    1936           5    5"
      ]
     },
     "execution_count": 45,
     "metadata": {},
     "output_type": "execute_result"
    }
   ],
   "source": [
    "BT[BT['RBI'] >= 100].groupby(['yearID','teamID']).count().reset_index().sort_values('playerID', ascending = False)[['teamID','yearID','playerName','RBI']].head(1)"
   ]
  },
  {
   "cell_type": "markdown",
   "metadata": {},
   "source": [
    "### How many players have played 100 or more games from 1900 on?"
   ]
  },
  {
   "cell_type": "code",
   "execution_count": 56,
   "metadata": {
    "collapsed": true
   },
   "outputs": [],
   "source": [
    "BT100 = BT[BT['yearID'] >= 1900].groupby(['playerID']).sum().reset_index()"
   ]
  },
  {
   "cell_type": "code",
   "execution_count": 59,
   "metadata": {},
   "outputs": [
    {
     "data": {
      "text/plain": [
       "8067"
      ]
     },
     "execution_count": 59,
     "metadata": {},
     "output_type": "execute_result"
    }
   ],
   "source": [
    "BT100[BT100['G'] > 100]['playerID'].count()"
   ]
  },
  {
   "cell_type": "markdown",
   "metadata": {},
   "source": [
    "### Who scored the most runs in 1938?"
   ]
  },
  {
   "cell_type": "code",
   "execution_count": 63,
   "metadata": {},
   "outputs": [
    {
     "data": {
      "text/plain": [
       "168    Greenberg Hank\n",
       "Name: playerName, dtype: object"
      ]
     },
     "execution_count": 63,
     "metadata": {},
     "output_type": "execute_result"
    }
   ],
   "source": [
    "BT[BT['yearID'] == 1938].groupby(['playerName']).sum().reset_index().sort_values('R', ascending = False)['playerName'].head(1)"
   ]
  },
  {
   "cell_type": "markdown",
   "metadata": {},
   "source": [
    "### In 2012 did anyone have at least 20 2Bs, 10 3Bs, 10 HRs, and 10 SBs?  If so, who were they?"
   ]
  },
  {
   "cell_type": "code",
   "execution_count": 65,
   "metadata": {},
   "outputs": [
    {
     "data": {
      "text/plain": [
       "95767     Cabrera Melky\n",
       "95809    Castro Starlin\n",
       "96218    Jackson Austin\n",
       "96670        Reyes Jose\n",
       "Name: playerName, dtype: object"
      ]
     },
     "execution_count": 65,
     "metadata": {},
     "output_type": "execute_result"
    }
   ],
   "source": [
    "BT[(BT['yearID'] == 2012) & (BT['2B'] >= 20) & (BT['3B'] >= 10) & (BT['HR'] >= 10) & (BT['SB'] >= 10)]['playerName']"
   ]
  },
  {
   "cell_type": "markdown",
   "metadata": {},
   "source": [
    "### Create a column that calculates OBP (on base percentage)\n",
    "### Formula: OBP = (Hits + Walks + Hit by Pitch) / (At Bats + Walks + Hit by Pitch + Sacrifice Flies + Sacrifice Hits)."
   ]
  },
  {
   "cell_type": "code",
   "execution_count": 66,
   "metadata": {
    "collapsed": true
   },
   "outputs": [],
   "source": [
    "BT['OBP'] = (BT['H'] + BT['BB'] + BT['HBP']) / (BT['AB'] + BT['BB'] + BT['HBP'] + BT['SF'] + BT['SH'])"
   ]
  },
  {
   "cell_type": "markdown",
   "metadata": {},
   "source": [
    "### For all players with 500 or more ABs which players had the top 5 OBPs in 2016?"
   ]
  },
  {
   "cell_type": "code",
   "execution_count": 71,
   "metadata": {},
   "outputs": [],
   "source": [
    "BTP = BT.groupby(['yearID','playerID']).sum().reset_index()"
   ]
  },
  {
   "cell_type": "code",
   "execution_count": 73,
   "metadata": {},
   "outputs": [
    {
     "data": {
      "text/html": [
       "<div>\n",
       "<style>\n",
       "    .dataframe thead tr:only-child th {\n",
       "        text-align: right;\n",
       "    }\n",
       "\n",
       "    .dataframe thead th {\n",
       "        text-align: left;\n",
       "    }\n",
       "\n",
       "    .dataframe tbody tr th {\n",
       "        vertical-align: top;\n",
       "    }\n",
       "</style>\n",
       "<table border=\"1\" class=\"dataframe\">\n",
       "  <thead>\n",
       "    <tr style=\"text-align: right;\">\n",
       "      <th></th>\n",
       "      <th>yearID</th>\n",
       "      <th>playerID</th>\n",
       "      <th>birthYear</th>\n",
       "      <th>stint</th>\n",
       "      <th>G</th>\n",
       "      <th>AB</th>\n",
       "      <th>R</th>\n",
       "      <th>H</th>\n",
       "      <th>2B</th>\n",
       "      <th>3B</th>\n",
       "      <th>...</th>\n",
       "      <th>CS</th>\n",
       "      <th>BB</th>\n",
       "      <th>SO</th>\n",
       "      <th>IBB</th>\n",
       "      <th>HBP</th>\n",
       "      <th>SH</th>\n",
       "      <th>SF</th>\n",
       "      <th>GIDP</th>\n",
       "      <th>2B+3B+HR</th>\n",
       "      <th>OBP</th>\n",
       "    </tr>\n",
       "  </thead>\n",
       "  <tbody>\n",
       "    <tr>\n",
       "      <th>93985</th>\n",
       "      <td>2016</td>\n",
       "      <td>beltrca01</td>\n",
       "      <td>3954</td>\n",
       "      <td>3</td>\n",
       "      <td>151</td>\n",
       "      <td>552</td>\n",
       "      <td>73</td>\n",
       "      <td>163</td>\n",
       "      <td>33</td>\n",
       "      <td>0</td>\n",
       "      <td>...</td>\n",
       "      <td>0.0</td>\n",
       "      <td>35</td>\n",
       "      <td>101.0</td>\n",
       "      <td>4.0</td>\n",
       "      <td>2.0</td>\n",
       "      <td>0.0</td>\n",
       "      <td>4.0</td>\n",
       "      <td>19.0</td>\n",
       "      <td>62</td>\n",
       "      <td>0.668912</td>\n",
       "    </tr>\n",
       "    <tr>\n",
       "      <th>94760</th>\n",
       "      <td>2016</td>\n",
       "      <td>nunezed02</td>\n",
       "      <td>3974</td>\n",
       "      <td>3</td>\n",
       "      <td>141</td>\n",
       "      <td>553</td>\n",
       "      <td>73</td>\n",
       "      <td>159</td>\n",
       "      <td>24</td>\n",
       "      <td>4</td>\n",
       "      <td>...</td>\n",
       "      <td>10.0</td>\n",
       "      <td>29</td>\n",
       "      <td>88.0</td>\n",
       "      <td>3.0</td>\n",
       "      <td>5.0</td>\n",
       "      <td>2.0</td>\n",
       "      <td>6.0</td>\n",
       "      <td>8.0</td>\n",
       "      <td>44</td>\n",
       "      <td>0.649865</td>\n",
       "    </tr>\n",
       "    <tr>\n",
       "      <th>94531</th>\n",
       "      <td>2016</td>\n",
       "      <td>kempma01</td>\n",
       "      <td>3968</td>\n",
       "      <td>3</td>\n",
       "      <td>156</td>\n",
       "      <td>623</td>\n",
       "      <td>89</td>\n",
       "      <td>167</td>\n",
       "      <td>39</td>\n",
       "      <td>0</td>\n",
       "      <td>...</td>\n",
       "      <td>0.0</td>\n",
       "      <td>36</td>\n",
       "      <td>156.0</td>\n",
       "      <td>6.0</td>\n",
       "      <td>1.0</td>\n",
       "      <td>0.0</td>\n",
       "      <td>12.0</td>\n",
       "      <td>17.0</td>\n",
       "      <td>74</td>\n",
       "      <td>0.621482</td>\n",
       "    </tr>\n",
       "    <tr>\n",
       "      <th>94039</th>\n",
       "      <td>2016</td>\n",
       "      <td>bruceja01</td>\n",
       "      <td>3974</td>\n",
       "      <td>3</td>\n",
       "      <td>147</td>\n",
       "      <td>539</td>\n",
       "      <td>74</td>\n",
       "      <td>135</td>\n",
       "      <td>27</td>\n",
       "      <td>6</td>\n",
       "      <td>...</td>\n",
       "      <td>2.0</td>\n",
       "      <td>44</td>\n",
       "      <td>126.0</td>\n",
       "      <td>7.0</td>\n",
       "      <td>3.0</td>\n",
       "      <td>0.0</td>\n",
       "      <td>3.0</td>\n",
       "      <td>14.0</td>\n",
       "      <td>66</td>\n",
       "      <td>0.610038</td>\n",
       "    </tr>\n",
       "    <tr>\n",
       "      <th>95139</th>\n",
       "      <td>2016</td>\n",
       "      <td>troutmi01</td>\n",
       "      <td>1991</td>\n",
       "      <td>1</td>\n",
       "      <td>159</td>\n",
       "      <td>549</td>\n",
       "      <td>123</td>\n",
       "      <td>173</td>\n",
       "      <td>32</td>\n",
       "      <td>5</td>\n",
       "      <td>...</td>\n",
       "      <td>7.0</td>\n",
       "      <td>116</td>\n",
       "      <td>137.0</td>\n",
       "      <td>12.0</td>\n",
       "      <td>11.0</td>\n",
       "      <td>0.0</td>\n",
       "      <td>5.0</td>\n",
       "      <td>5.0</td>\n",
       "      <td>66</td>\n",
       "      <td>0.440529</td>\n",
       "    </tr>\n",
       "  </tbody>\n",
       "</table>\n",
       "<p>5 rows × 23 columns</p>\n",
       "</div>"
      ],
      "text/plain": [
       "       yearID   playerID  birthYear  stint    G   AB    R    H  2B  3B  \\\n",
       "93985    2016  beltrca01       3954      3  151  552   73  163  33   0   \n",
       "94760    2016  nunezed02       3974      3  141  553   73  159  24   4   \n",
       "94531    2016   kempma01       3968      3  156  623   89  167  39   0   \n",
       "94039    2016  bruceja01       3974      3  147  539   74  135  27   6   \n",
       "95139    2016  troutmi01       1991      1  159  549  123  173  32   5   \n",
       "\n",
       "         ...       CS   BB     SO   IBB   HBP   SH    SF  GIDP  2B+3B+HR  \\\n",
       "93985    ...      0.0   35  101.0   4.0   2.0  0.0   4.0  19.0        62   \n",
       "94760    ...     10.0   29   88.0   3.0   5.0  2.0   6.0   8.0        44   \n",
       "94531    ...      0.0   36  156.0   6.0   1.0  0.0  12.0  17.0        74   \n",
       "94039    ...      2.0   44  126.0   7.0   3.0  0.0   3.0  14.0        66   \n",
       "95139    ...      7.0  116  137.0  12.0  11.0  0.0   5.0   5.0        66   \n",
       "\n",
       "            OBP  \n",
       "93985  0.668912  \n",
       "94760  0.649865  \n",
       "94531  0.621482  \n",
       "94039  0.610038  \n",
       "95139  0.440529  \n",
       "\n",
       "[5 rows x 23 columns]"
      ]
     },
     "execution_count": 73,
     "metadata": {},
     "output_type": "execute_result"
    }
   ],
   "source": [
    "BTP[(BTP['AB'] > 500) & (BTP['yearID'] == 2016)].sort_values('OBP',ascending = False).head()"
   ]
  },
  {
   "cell_type": "code",
   "execution_count": 74,
   "metadata": {
    "collapsed": true
   },
   "outputs": [],
   "source": [
    "BTP1 = BT.groupby(['playerID']).sum().reset_index()"
   ]
  },
  {
   "cell_type": "code",
   "execution_count": 77,
   "metadata": {},
   "outputs": [],
   "source": [
    "fil_pla = BTP1[(BTP1['AB'] > 500)].sort_values('OBP',ascending = False)['playerID']"
   ]
  },
  {
   "cell_type": "code",
   "execution_count": 79,
   "metadata": {},
   "outputs": [
    {
     "data": {
      "text/html": [
       "<div>\n",
       "<style>\n",
       "    .dataframe thead tr:only-child th {\n",
       "        text-align: right;\n",
       "    }\n",
       "\n",
       "    .dataframe thead th {\n",
       "        text-align: left;\n",
       "    }\n",
       "\n",
       "    .dataframe tbody tr th {\n",
       "        vertical-align: top;\n",
       "    }\n",
       "</style>\n",
       "<table border=\"1\" class=\"dataframe\">\n",
       "  <thead>\n",
       "    <tr style=\"text-align: right;\">\n",
       "      <th></th>\n",
       "      <th>yearID</th>\n",
       "      <th>playerID</th>\n",
       "      <th>birthYear</th>\n",
       "      <th>stint</th>\n",
       "      <th>G</th>\n",
       "      <th>AB</th>\n",
       "      <th>R</th>\n",
       "      <th>H</th>\n",
       "      <th>2B</th>\n",
       "      <th>3B</th>\n",
       "      <th>...</th>\n",
       "      <th>CS</th>\n",
       "      <th>BB</th>\n",
       "      <th>SO</th>\n",
       "      <th>IBB</th>\n",
       "      <th>HBP</th>\n",
       "      <th>SH</th>\n",
       "      <th>SF</th>\n",
       "      <th>GIDP</th>\n",
       "      <th>2B+3B+HR</th>\n",
       "      <th>OBP</th>\n",
       "    </tr>\n",
       "  </thead>\n",
       "  <tbody>\n",
       "    <tr>\n",
       "      <th>95090</th>\n",
       "      <td>2016</td>\n",
       "      <td>stubbdr01</td>\n",
       "      <td>5952</td>\n",
       "      <td>6</td>\n",
       "      <td>59</td>\n",
       "      <td>80</td>\n",
       "      <td>13</td>\n",
       "      <td>18</td>\n",
       "      <td>0</td>\n",
       "      <td>0</td>\n",
       "      <td>...</td>\n",
       "      <td>1.0</td>\n",
       "      <td>12</td>\n",
       "      <td>38.0</td>\n",
       "      <td>0.0</td>\n",
       "      <td>1.0</td>\n",
       "      <td>0.0</td>\n",
       "      <td>1.0</td>\n",
       "      <td>1.0</td>\n",
       "      <td>3</td>\n",
       "      <td>1.005820</td>\n",
       "    </tr>\n",
       "    <tr>\n",
       "      <th>94399</th>\n",
       "      <td>2016</td>\n",
       "      <td>guyerbr01</td>\n",
       "      <td>3972</td>\n",
       "      <td>3</td>\n",
       "      <td>101</td>\n",
       "      <td>293</td>\n",
       "      <td>39</td>\n",
       "      <td>78</td>\n",
       "      <td>17</td>\n",
       "      <td>1</td>\n",
       "      <td>...</td>\n",
       "      <td>2.0</td>\n",
       "      <td>19</td>\n",
       "      <td>55.0</td>\n",
       "      <td>1.0</td>\n",
       "      <td>31.0</td>\n",
       "      <td>1.0</td>\n",
       "      <td>1.0</td>\n",
       "      <td>6.0</td>\n",
       "      <td>27</td>\n",
       "      <td>0.782882</td>\n",
       "    </tr>\n",
       "    <tr>\n",
       "      <th>94643</th>\n",
       "      <td>2016</td>\n",
       "      <td>martimi02</td>\n",
       "      <td>5946</td>\n",
       "      <td>6</td>\n",
       "      <td>63</td>\n",
       "      <td>101</td>\n",
       "      <td>16</td>\n",
       "      <td>24</td>\n",
       "      <td>4</td>\n",
       "      <td>0</td>\n",
       "      <td>...</td>\n",
       "      <td>2.0</td>\n",
       "      <td>4</td>\n",
       "      <td>23.0</td>\n",
       "      <td>0.0</td>\n",
       "      <td>0.0</td>\n",
       "      <td>1.0</td>\n",
       "      <td>0.0</td>\n",
       "      <td>1.0</td>\n",
       "      <td>5</td>\n",
       "      <td>0.781746</td>\n",
       "    </tr>\n",
       "    <tr>\n",
       "      <th>93942</th>\n",
       "      <td>2016</td>\n",
       "      <td>arciaos01</td>\n",
       "      <td>7964</td>\n",
       "      <td>10</td>\n",
       "      <td>69</td>\n",
       "      <td>202</td>\n",
       "      <td>17</td>\n",
       "      <td>41</td>\n",
       "      <td>7</td>\n",
       "      <td>1</td>\n",
       "      <td>...</td>\n",
       "      <td>1.0</td>\n",
       "      <td>18</td>\n",
       "      <td>80.0</td>\n",
       "      <td>0.0</td>\n",
       "      <td>1.0</td>\n",
       "      <td>0.0</td>\n",
       "      <td>1.0</td>\n",
       "      <td>1.0</td>\n",
       "      <td>16</td>\n",
       "      <td>0.772898</td>\n",
       "    </tr>\n",
       "    <tr>\n",
       "      <th>95215</th>\n",
       "      <td>2016</td>\n",
       "      <td>wilsobo02</td>\n",
       "      <td>5949</td>\n",
       "      <td>6</td>\n",
       "      <td>75</td>\n",
       "      <td>228</td>\n",
       "      <td>25</td>\n",
       "      <td>54</td>\n",
       "      <td>6</td>\n",
       "      <td>0</td>\n",
       "      <td>...</td>\n",
       "      <td>0.0</td>\n",
       "      <td>11</td>\n",
       "      <td>64.0</td>\n",
       "      <td>0.0</td>\n",
       "      <td>1.0</td>\n",
       "      <td>7.0</td>\n",
       "      <td>4.0</td>\n",
       "      <td>6.0</td>\n",
       "      <td>13</td>\n",
       "      <td>0.732661</td>\n",
       "    </tr>\n",
       "  </tbody>\n",
       "</table>\n",
       "<p>5 rows × 23 columns</p>\n",
       "</div>"
      ],
      "text/plain": [
       "       yearID   playerID  birthYear  stint    G   AB   R   H  2B  3B  \\\n",
       "95090    2016  stubbdr01       5952      6   59   80  13  18   0   0   \n",
       "94399    2016  guyerbr01       3972      3  101  293  39  78  17   1   \n",
       "94643    2016  martimi02       5946      6   63  101  16  24   4   0   \n",
       "93942    2016  arciaos01       7964     10   69  202  17  41   7   1   \n",
       "95215    2016  wilsobo02       5949      6   75  228  25  54   6   0   \n",
       "\n",
       "         ...      CS  BB    SO  IBB   HBP   SH   SF  GIDP  2B+3B+HR       OBP  \n",
       "95090    ...     1.0  12  38.0  0.0   1.0  0.0  1.0   1.0         3  1.005820  \n",
       "94399    ...     2.0  19  55.0  1.0  31.0  1.0  1.0   6.0        27  0.782882  \n",
       "94643    ...     2.0   4  23.0  0.0   0.0  1.0  0.0   1.0         5  0.781746  \n",
       "93942    ...     1.0  18  80.0  0.0   1.0  0.0  1.0   1.0        16  0.772898  \n",
       "95215    ...     0.0  11  64.0  0.0   1.0  7.0  4.0   6.0        13  0.732661  \n",
       "\n",
       "[5 rows x 23 columns]"
      ]
     },
     "execution_count": 79,
     "metadata": {},
     "output_type": "execute_result"
    }
   ],
   "source": [
    "BTP[(BTP['yearID'] == 2016) & (BTP['playerID'].isin(fil_pla))].sort_values('OBP',ascending = False).head()"
   ]
  },
  {
   "cell_type": "code",
   "execution_count": 86,
   "metadata": {},
   "outputs": [
    {
     "data": {
      "text/plain": [
       "604"
      ]
     },
     "execution_count": 86,
     "metadata": {},
     "output_type": "execute_result"
    }
   ],
   "source": [
    "BT['playerID'].nunique() - BT['playerName'].nunique()"
   ]
  },
  {
   "cell_type": "markdown",
   "metadata": {},
   "source": [
    "### Who had the highest OBP of all time?  Required: Player has to have had at least 500 ABs and 30 HRs.  Top 5."
   ]
  },
  {
   "cell_type": "code",
   "execution_count": 82,
   "metadata": {},
   "outputs": [
    {
     "data": {
      "text/html": [
       "<div>\n",
       "<style>\n",
       "    .dataframe thead tr:only-child th {\n",
       "        text-align: right;\n",
       "    }\n",
       "\n",
       "    .dataframe thead th {\n",
       "        text-align: left;\n",
       "    }\n",
       "\n",
       "    .dataframe tbody tr th {\n",
       "        vertical-align: top;\n",
       "    }\n",
       "</style>\n",
       "<table border=\"1\" class=\"dataframe\">\n",
       "  <thead>\n",
       "    <tr style=\"text-align: right;\">\n",
       "      <th></th>\n",
       "      <th>playerID</th>\n",
       "      <th>OBP</th>\n",
       "    </tr>\n",
       "  </thead>\n",
       "  <tbody>\n",
       "    <tr>\n",
       "      <th>7383</th>\n",
       "      <td>henderi01</td>\n",
       "      <td>11.451621</td>\n",
       "    </tr>\n",
       "    <tr>\n",
       "      <th>1542</th>\n",
       "      <td>bondsba01</td>\n",
       "      <td>9.711481</td>\n",
       "    </tr>\n",
       "    <tr>\n",
       "      <th>17004</th>\n",
       "      <td>thomeji01</td>\n",
       "      <td>9.501460</td>\n",
       "    </tr>\n",
       "    <tr>\n",
       "      <th>618</th>\n",
       "      <td>baineha01</td>\n",
       "      <td>9.473607</td>\n",
       "    </tr>\n",
       "    <tr>\n",
       "      <th>14719</th>\n",
       "      <td>rosepe01</td>\n",
       "      <td>9.309313</td>\n",
       "    </tr>\n",
       "  </tbody>\n",
       "</table>\n",
       "</div>"
      ],
      "text/plain": [
       "        playerID        OBP\n",
       "7383   henderi01  11.451621\n",
       "1542   bondsba01   9.711481\n",
       "17004  thomeji01   9.501460\n",
       "618    baineha01   9.473607\n",
       "14719   rosepe01   9.309313"
      ]
     },
     "execution_count": 82,
     "metadata": {},
     "output_type": "execute_result"
    }
   ],
   "source": [
    "BTP1[(BTP1['AB'] > 500) & (BTP1['HR'] > 30)].sort_values('OBP',ascending = False)[['playerID','OBP']].head()"
   ]
  },
  {
   "cell_type": "markdown",
   "metadata": {},
   "source": [
    "### Bonus: I would like a barchart depicting the total amount of HRs by year"
   ]
  },
  {
   "cell_type": "code",
   "execution_count": 94,
   "metadata": {},
   "outputs": [
    {
     "data": {
      "text/plain": [
       "<matplotlib.axes._subplots.AxesSubplot at 0x130b8151e48>"
      ]
     },
     "execution_count": 94,
     "metadata": {},
     "output_type": "execute_result"
    },
    {
     "data": {
      "image/png": "[encoded data removed]",
      "text/plain": [
       "<matplotlib.figure.Figure at 0x130b99df9e8>"
      ]
     },
     "metadata": {},
     "output_type": "display_data"
    }
   ],
   "source": [
    "BT.pivot_table(values='HR',index='yearID', aggfunc=np.sum).plot.bar(figsize=(20,30),lw=2)"
   ]
  },
  {
   "cell_type": "markdown",
   "metadata": {},
   "source": [
    "### Bonus #2: I would like a line graph depicting the total amount of Ks per year"
   ]
  },
  {
   "cell_type": "code",
   "execution_count": 95,
   "metadata": {},
   "outputs": [
    {
     "data": {
      "text/plain": [
       "<matplotlib.axes._subplots.AxesSubplot at 0x130b9b39a58>"
      ]
     },
     "execution_count": 95,
     "metadata": {},
     "output_type": "execute_result"
    },
    {
     "data": {
      "image/png": "[encoded data removed]",
      "text/plain": [
       "<matplotlib.figure.Figure at 0x130baff9f28>"
      ]
     },
     "metadata": {},
     "output_type": "display_data"
    }
   ],
   "source": [
    "BT.pivot_table(values='SO',index='yearID', aggfunc=np.sum).plot.line(figsize=(20,30),lw=2)"
   ]
  },
  {
   "cell_type": "code",
   "execution_count": null,
   "metadata": {
    "collapsed": true
   },
   "outputs": [],
   "source": []
  },
  {
   "cell_type": "code",
   "execution_count": null,
   "metadata": {
    "collapsed": true
   },
   "outputs": [],
   "source": []
  }
 ],
 "metadata": {
  "kernelspec": {
   "display_name": "Python 3",
   "language": "python",
   "name": "python3"
  },
  "language_info": {
   "codemirror_mode": {
    "name": "ipython",
    "version": 3
   },
   "file_extension": ".py",
   "mimetype": "text/x-python",
   "name": "python",
   "nbconvert_exporter": "python",
   "pygments_lexer": "ipython3",
   "version": "3.6.1"
  }
 },
 "nbformat": 4,
 "nbformat_minor": 2
}
